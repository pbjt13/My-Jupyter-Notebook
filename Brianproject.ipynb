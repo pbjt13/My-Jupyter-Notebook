{
  "metadata": {
    "language_info": {
      "codemirror_mode": {
        "name": "python",
        "version": 3
      },
      "file_extension": ".py",
      "mimetype": "text/x-python",
      "name": "python",
      "nbconvert_exporter": "python",
      "pygments_lexer": "ipython3",
      "version": "3.8"
    },
    "kernelspec": {
      "name": "python",
      "display_name": "Pyolite",
      "language": "python"
    }
  },
  "nbformat_minor": 4,
  "nbformat": 4,
  "cells": [
    {
      "cell_type": "code",
      "source": " # My Jupyter Notebook on IBM Watson Studio",
      "metadata": {},
      "execution_count": null,
      "outputs": []
    },
    {
      "cell_type": "code",
      "source": "## **BRIAN LEE**\n## Data Analyst",
      "metadata": {},
      "execution_count": null,
      "outputs": []
    },
    {
      "cell_type": "code",
      "source": "## *I am interested in data science because I have always loved numbers and statistics.*\n## *Ever since I was a kid looking at baseball stats, statistcs and their meaning has been a passion of mine*",
      "metadata": {},
      "execution_count": null,
      "outputs": []
    },
    {
      "cell_type": "code",
      "source": "### My code is mutiplies 6 by 7",
      "metadata": {},
      "execution_count": null,
      "outputs": []
    },
    {
      "cell_type": "code",
      "source": "6 * 7",
      "metadata": {
        "trusted": true
      },
      "execution_count": 1,
      "outputs": [
        {
          "execution_count": 1,
          "output_type": "execute_result",
          "data": {
            "text/plain": "42"
          },
          "metadata": {}
        }
      ]
    },
    {
      "cell_type": "code",
      "source": "## _ bullet one\n## _ bullet two\n## _ bullet three\n\n## [Using Jupyter Notebook here] (https://labs.cognitiveclass.ai/v2/tools/jupyterlite)\n\n## def strike(this text)",
      "metadata": {},
      "execution_count": null,
      "outputs": []
    }
  ]
}